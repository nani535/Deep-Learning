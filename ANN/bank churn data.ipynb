{
 "cells": [
  {
   "cell_type": "code",
   "execution_count": 1,
   "metadata": {},
   "outputs": [],
   "source": [
    "import pandas as pd\n",
    "import numpy as np\n",
    "import seaborn as sns\n",
    "import matplotlib.pyplot as plt\n",
    "import warnings\n",
    "warnings.filterwarnings('ignore')"
   ]
  },
  {
   "cell_type": "code",
   "execution_count": 2,
   "metadata": {},
   "outputs": [],
   "source": [
    "data=pd.read_csv(r\"C:\\Users\\user\\Desktop\\Data sets\\Churn_Modelling.csv\")"
   ]
  },
  {
   "cell_type": "code",
   "execution_count": 3,
   "metadata": {},
   "outputs": [
    {
     "data": {
      "text/html": [
       "<div>\n",
       "<style scoped>\n",
       "    .dataframe tbody tr th:only-of-type {\n",
       "        vertical-align: middle;\n",
       "    }\n",
       "\n",
       "    .dataframe tbody tr th {\n",
       "        vertical-align: top;\n",
       "    }\n",
       "\n",
       "    .dataframe thead th {\n",
       "        text-align: right;\n",
       "    }\n",
       "</style>\n",
       "<table border=\"1\" class=\"dataframe\">\n",
       "  <thead>\n",
       "    <tr style=\"text-align: right;\">\n",
       "      <th></th>\n",
       "      <th>RowNumber</th>\n",
       "      <th>CustomerId</th>\n",
       "      <th>Surname</th>\n",
       "      <th>CreditScore</th>\n",
       "      <th>Geography</th>\n",
       "      <th>Gender</th>\n",
       "      <th>Age</th>\n",
       "      <th>Tenure</th>\n",
       "      <th>Balance</th>\n",
       "      <th>NumOfProducts</th>\n",
       "      <th>HasCrCard</th>\n",
       "      <th>IsActiveMember</th>\n",
       "      <th>EstimatedSalary</th>\n",
       "      <th>Exited</th>\n",
       "    </tr>\n",
       "  </thead>\n",
       "  <tbody>\n",
       "    <tr>\n",
       "      <th>0</th>\n",
       "      <td>1</td>\n",
       "      <td>15634602</td>\n",
       "      <td>Hargrave</td>\n",
       "      <td>619</td>\n",
       "      <td>France</td>\n",
       "      <td>Female</td>\n",
       "      <td>42</td>\n",
       "      <td>2</td>\n",
       "      <td>0.00</td>\n",
       "      <td>1</td>\n",
       "      <td>1</td>\n",
       "      <td>1</td>\n",
       "      <td>101348.88</td>\n",
       "      <td>1</td>\n",
       "    </tr>\n",
       "    <tr>\n",
       "      <th>1</th>\n",
       "      <td>2</td>\n",
       "      <td>15647311</td>\n",
       "      <td>Hill</td>\n",
       "      <td>608</td>\n",
       "      <td>Spain</td>\n",
       "      <td>Female</td>\n",
       "      <td>41</td>\n",
       "      <td>1</td>\n",
       "      <td>83807.86</td>\n",
       "      <td>1</td>\n",
       "      <td>0</td>\n",
       "      <td>1</td>\n",
       "      <td>112542.58</td>\n",
       "      <td>0</td>\n",
       "    </tr>\n",
       "    <tr>\n",
       "      <th>2</th>\n",
       "      <td>3</td>\n",
       "      <td>15619304</td>\n",
       "      <td>Onio</td>\n",
       "      <td>502</td>\n",
       "      <td>France</td>\n",
       "      <td>Female</td>\n",
       "      <td>42</td>\n",
       "      <td>8</td>\n",
       "      <td>159660.80</td>\n",
       "      <td>3</td>\n",
       "      <td>1</td>\n",
       "      <td>0</td>\n",
       "      <td>113931.57</td>\n",
       "      <td>1</td>\n",
       "    </tr>\n",
       "    <tr>\n",
       "      <th>3</th>\n",
       "      <td>4</td>\n",
       "      <td>15701354</td>\n",
       "      <td>Boni</td>\n",
       "      <td>699</td>\n",
       "      <td>France</td>\n",
       "      <td>Female</td>\n",
       "      <td>39</td>\n",
       "      <td>1</td>\n",
       "      <td>0.00</td>\n",
       "      <td>2</td>\n",
       "      <td>0</td>\n",
       "      <td>0</td>\n",
       "      <td>93826.63</td>\n",
       "      <td>0</td>\n",
       "    </tr>\n",
       "    <tr>\n",
       "      <th>4</th>\n",
       "      <td>5</td>\n",
       "      <td>15737888</td>\n",
       "      <td>Mitchell</td>\n",
       "      <td>850</td>\n",
       "      <td>Spain</td>\n",
       "      <td>Female</td>\n",
       "      <td>43</td>\n",
       "      <td>2</td>\n",
       "      <td>125510.82</td>\n",
       "      <td>1</td>\n",
       "      <td>1</td>\n",
       "      <td>1</td>\n",
       "      <td>79084.10</td>\n",
       "      <td>0</td>\n",
       "    </tr>\n",
       "  </tbody>\n",
       "</table>\n",
       "</div>"
      ],
      "text/plain": [
       "   RowNumber  CustomerId   Surname  CreditScore Geography  Gender  Age  \\\n",
       "0          1    15634602  Hargrave          619    France  Female   42   \n",
       "1          2    15647311      Hill          608     Spain  Female   41   \n",
       "2          3    15619304      Onio          502    France  Female   42   \n",
       "3          4    15701354      Boni          699    France  Female   39   \n",
       "4          5    15737888  Mitchell          850     Spain  Female   43   \n",
       "\n",
       "   Tenure    Balance  NumOfProducts  HasCrCard  IsActiveMember  \\\n",
       "0       2       0.00              1          1               1   \n",
       "1       1   83807.86              1          0               1   \n",
       "2       8  159660.80              3          1               0   \n",
       "3       1       0.00              2          0               0   \n",
       "4       2  125510.82              1          1               1   \n",
       "\n",
       "   EstimatedSalary  Exited  \n",
       "0        101348.88       1  \n",
       "1        112542.58       0  \n",
       "2        113931.57       1  \n",
       "3         93826.63       0  \n",
       "4         79084.10       0  "
      ]
     },
     "execution_count": 3,
     "metadata": {},
     "output_type": "execute_result"
    }
   ],
   "source": [
    "data.head()"
   ]
  },
  {
   "cell_type": "code",
   "execution_count": 4,
   "metadata": {},
   "outputs": [
    {
     "data": {
      "text/plain": [
       "(10000, 14)"
      ]
     },
     "execution_count": 4,
     "metadata": {},
     "output_type": "execute_result"
    }
   ],
   "source": [
    "data.shape"
   ]
  },
  {
   "cell_type": "code",
   "execution_count": 5,
   "metadata": {},
   "outputs": [
    {
     "data": {
      "text/plain": [
       "RowNumber          0\n",
       "CustomerId         0\n",
       "Surname            0\n",
       "CreditScore        0\n",
       "Geography          0\n",
       "Gender             0\n",
       "Age                0\n",
       "Tenure             0\n",
       "Balance            0\n",
       "NumOfProducts      0\n",
       "HasCrCard          0\n",
       "IsActiveMember     0\n",
       "EstimatedSalary    0\n",
       "Exited             0\n",
       "dtype: int64"
      ]
     },
     "execution_count": 5,
     "metadata": {},
     "output_type": "execute_result"
    }
   ],
   "source": [
    "np.sum(data.isnull())"
   ]
  },
  {
   "cell_type": "code",
   "execution_count": 6,
   "metadata": {},
   "outputs": [],
   "source": [
    "features=data.iloc[:,3:-1]\n",
    "label=data.iloc[:,-1]"
   ]
  },
  {
   "cell_type": "markdown",
   "metadata": {},
   "source": [
    "# In feature the existing customer is going to exit from the bank in feature  or not"
   ]
  },
  {
   "cell_type": "code",
   "execution_count": 7,
   "metadata": {},
   "outputs": [
    {
     "data": {
      "text/html": [
       "<div>\n",
       "<style scoped>\n",
       "    .dataframe tbody tr th:only-of-type {\n",
       "        vertical-align: middle;\n",
       "    }\n",
       "\n",
       "    .dataframe tbody tr th {\n",
       "        vertical-align: top;\n",
       "    }\n",
       "\n",
       "    .dataframe thead th {\n",
       "        text-align: right;\n",
       "    }\n",
       "</style>\n",
       "<table border=\"1\" class=\"dataframe\">\n",
       "  <thead>\n",
       "    <tr style=\"text-align: right;\">\n",
       "      <th></th>\n",
       "      <th>CreditScore</th>\n",
       "      <th>Geography</th>\n",
       "      <th>Gender</th>\n",
       "      <th>Age</th>\n",
       "      <th>Tenure</th>\n",
       "      <th>Balance</th>\n",
       "      <th>NumOfProducts</th>\n",
       "      <th>HasCrCard</th>\n",
       "      <th>IsActiveMember</th>\n",
       "      <th>EstimatedSalary</th>\n",
       "    </tr>\n",
       "  </thead>\n",
       "  <tbody>\n",
       "    <tr>\n",
       "      <th>0</th>\n",
       "      <td>619</td>\n",
       "      <td>France</td>\n",
       "      <td>Female</td>\n",
       "      <td>42</td>\n",
       "      <td>2</td>\n",
       "      <td>0.00</td>\n",
       "      <td>1</td>\n",
       "      <td>1</td>\n",
       "      <td>1</td>\n",
       "      <td>101348.88</td>\n",
       "    </tr>\n",
       "    <tr>\n",
       "      <th>1</th>\n",
       "      <td>608</td>\n",
       "      <td>Spain</td>\n",
       "      <td>Female</td>\n",
       "      <td>41</td>\n",
       "      <td>1</td>\n",
       "      <td>83807.86</td>\n",
       "      <td>1</td>\n",
       "      <td>0</td>\n",
       "      <td>1</td>\n",
       "      <td>112542.58</td>\n",
       "    </tr>\n",
       "    <tr>\n",
       "      <th>2</th>\n",
       "      <td>502</td>\n",
       "      <td>France</td>\n",
       "      <td>Female</td>\n",
       "      <td>42</td>\n",
       "      <td>8</td>\n",
       "      <td>159660.80</td>\n",
       "      <td>3</td>\n",
       "      <td>1</td>\n",
       "      <td>0</td>\n",
       "      <td>113931.57</td>\n",
       "    </tr>\n",
       "    <tr>\n",
       "      <th>3</th>\n",
       "      <td>699</td>\n",
       "      <td>France</td>\n",
       "      <td>Female</td>\n",
       "      <td>39</td>\n",
       "      <td>1</td>\n",
       "      <td>0.00</td>\n",
       "      <td>2</td>\n",
       "      <td>0</td>\n",
       "      <td>0</td>\n",
       "      <td>93826.63</td>\n",
       "    </tr>\n",
       "    <tr>\n",
       "      <th>4</th>\n",
       "      <td>850</td>\n",
       "      <td>Spain</td>\n",
       "      <td>Female</td>\n",
       "      <td>43</td>\n",
       "      <td>2</td>\n",
       "      <td>125510.82</td>\n",
       "      <td>1</td>\n",
       "      <td>1</td>\n",
       "      <td>1</td>\n",
       "      <td>79084.10</td>\n",
       "    </tr>\n",
       "  </tbody>\n",
       "</table>\n",
       "</div>"
      ],
      "text/plain": [
       "   CreditScore Geography  Gender  Age  Tenure    Balance  NumOfProducts  \\\n",
       "0          619    France  Female   42       2       0.00              1   \n",
       "1          608     Spain  Female   41       1   83807.86              1   \n",
       "2          502    France  Female   42       8  159660.80              3   \n",
       "3          699    France  Female   39       1       0.00              2   \n",
       "4          850     Spain  Female   43       2  125510.82              1   \n",
       "\n",
       "   HasCrCard  IsActiveMember  EstimatedSalary  \n",
       "0          1               1        101348.88  \n",
       "1          0               1        112542.58  \n",
       "2          1               0        113931.57  \n",
       "3          0               0         93826.63  \n",
       "4          1               1         79084.10  "
      ]
     },
     "execution_count": 7,
     "metadata": {},
     "output_type": "execute_result"
    }
   ],
   "source": [
    "features.head()"
   ]
  },
  {
   "cell_type": "code",
   "execution_count": 8,
   "metadata": {},
   "outputs": [],
   "source": [
    "features=pd.get_dummies(data=features,columns=['Geography','Gender'],drop_first=True)"
   ]
  },
  {
   "cell_type": "code",
   "execution_count": 9,
   "metadata": {},
   "outputs": [
    {
     "data": {
      "text/html": [
       "<div>\n",
       "<style scoped>\n",
       "    .dataframe tbody tr th:only-of-type {\n",
       "        vertical-align: middle;\n",
       "    }\n",
       "\n",
       "    .dataframe tbody tr th {\n",
       "        vertical-align: top;\n",
       "    }\n",
       "\n",
       "    .dataframe thead th {\n",
       "        text-align: right;\n",
       "    }\n",
       "</style>\n",
       "<table border=\"1\" class=\"dataframe\">\n",
       "  <thead>\n",
       "    <tr style=\"text-align: right;\">\n",
       "      <th></th>\n",
       "      <th>CreditScore</th>\n",
       "      <th>Age</th>\n",
       "      <th>Tenure</th>\n",
       "      <th>Balance</th>\n",
       "      <th>NumOfProducts</th>\n",
       "      <th>HasCrCard</th>\n",
       "      <th>IsActiveMember</th>\n",
       "      <th>EstimatedSalary</th>\n",
       "      <th>Geography_Germany</th>\n",
       "      <th>Geography_Spain</th>\n",
       "      <th>Gender_Male</th>\n",
       "    </tr>\n",
       "  </thead>\n",
       "  <tbody>\n",
       "    <tr>\n",
       "      <th>0</th>\n",
       "      <td>619</td>\n",
       "      <td>42</td>\n",
       "      <td>2</td>\n",
       "      <td>0.00</td>\n",
       "      <td>1</td>\n",
       "      <td>1</td>\n",
       "      <td>1</td>\n",
       "      <td>101348.88</td>\n",
       "      <td>0</td>\n",
       "      <td>0</td>\n",
       "      <td>0</td>\n",
       "    </tr>\n",
       "    <tr>\n",
       "      <th>1</th>\n",
       "      <td>608</td>\n",
       "      <td>41</td>\n",
       "      <td>1</td>\n",
       "      <td>83807.86</td>\n",
       "      <td>1</td>\n",
       "      <td>0</td>\n",
       "      <td>1</td>\n",
       "      <td>112542.58</td>\n",
       "      <td>0</td>\n",
       "      <td>1</td>\n",
       "      <td>0</td>\n",
       "    </tr>\n",
       "    <tr>\n",
       "      <th>2</th>\n",
       "      <td>502</td>\n",
       "      <td>42</td>\n",
       "      <td>8</td>\n",
       "      <td>159660.80</td>\n",
       "      <td>3</td>\n",
       "      <td>1</td>\n",
       "      <td>0</td>\n",
       "      <td>113931.57</td>\n",
       "      <td>0</td>\n",
       "      <td>0</td>\n",
       "      <td>0</td>\n",
       "    </tr>\n",
       "    <tr>\n",
       "      <th>3</th>\n",
       "      <td>699</td>\n",
       "      <td>39</td>\n",
       "      <td>1</td>\n",
       "      <td>0.00</td>\n",
       "      <td>2</td>\n",
       "      <td>0</td>\n",
       "      <td>0</td>\n",
       "      <td>93826.63</td>\n",
       "      <td>0</td>\n",
       "      <td>0</td>\n",
       "      <td>0</td>\n",
       "    </tr>\n",
       "    <tr>\n",
       "      <th>4</th>\n",
       "      <td>850</td>\n",
       "      <td>43</td>\n",
       "      <td>2</td>\n",
       "      <td>125510.82</td>\n",
       "      <td>1</td>\n",
       "      <td>1</td>\n",
       "      <td>1</td>\n",
       "      <td>79084.10</td>\n",
       "      <td>0</td>\n",
       "      <td>1</td>\n",
       "      <td>0</td>\n",
       "    </tr>\n",
       "  </tbody>\n",
       "</table>\n",
       "</div>"
      ],
      "text/plain": [
       "   CreditScore  Age  Tenure    Balance  NumOfProducts  HasCrCard  \\\n",
       "0          619   42       2       0.00              1          1   \n",
       "1          608   41       1   83807.86              1          0   \n",
       "2          502   42       8  159660.80              3          1   \n",
       "3          699   39       1       0.00              2          0   \n",
       "4          850   43       2  125510.82              1          1   \n",
       "\n",
       "   IsActiveMember  EstimatedSalary  Geography_Germany  Geography_Spain  \\\n",
       "0               1        101348.88                  0                0   \n",
       "1               1        112542.58                  0                1   \n",
       "2               0        113931.57                  0                0   \n",
       "3               0         93826.63                  0                0   \n",
       "4               1         79084.10                  0                1   \n",
       "\n",
       "   Gender_Male  \n",
       "0            0  \n",
       "1            0  \n",
       "2            0  \n",
       "3            0  \n",
       "4            0  "
      ]
     },
     "execution_count": 9,
     "metadata": {},
     "output_type": "execute_result"
    }
   ],
   "source": [
    "features.head()"
   ]
  },
  {
   "cell_type": "code",
   "execution_count": 10,
   "metadata": {},
   "outputs": [],
   "source": [
    "from sklearn.model_selection import train_test_split\n",
    "X_train,X_test,y_train,y_test=train_test_split(features,label,test_size=0.2,random_state=12)"
   ]
  },
  {
   "cell_type": "code",
   "execution_count": 11,
   "metadata": {},
   "outputs": [],
   "source": [
    "from sklearn.preprocessing import StandardScaler\n",
    "scaler=StandardScaler()\n",
    "X_train=scaler.fit_transform(X_train)\n",
    "X_test=scaler.fit_transform(X_test)"
   ]
  },
  {
   "cell_type": "code",
   "execution_count": 12,
   "metadata": {},
   "outputs": [],
   "source": [
    "import keras"
   ]
  },
  {
   "cell_type": "code",
   "execution_count": 13,
   "metadata": {},
   "outputs": [],
   "source": [
    "from keras.models import Sequential\n",
    "from keras.layers import Dense\n",
    "from keras.layers import ReLU,LeakyReLU,ELU\n",
    "from keras.layers import Dropout"
   ]
  },
  {
   "cell_type": "code",
   "execution_count": 14,
   "metadata": {},
   "outputs": [],
   "source": [
    "#model installing ANN\n",
    "classifier=Sequential()"
   ]
  },
  {
   "cell_type": "code",
   "execution_count": 15,
   "metadata": {},
   "outputs": [],
   "source": [
    "#Dense layer means hidden layer\n",
    "#we can creat3e many hidden layers i.e Dense\n",
    "#output_dim or units=6 it menas 6 hidden neurons\n",
    "#init or kernel_initializer=he_uniform it means (it is a weight initialization technique )\n",
    "#when we are using activation function relu use weight initiazition as he_uniform\n",
    "#imput_dim =11 it means in my data set i'm having 11 features"
   ]
  },
  {
   "cell_type": "code",
   "execution_count": 16,
   "metadata": {},
   "outputs": [],
   "source": [
    "#hidden layer 1\n",
    "classifier.add(Dense(units=6,kernel_initializer='he_uniform',activation='relu',input_dim=11))"
   ]
  },
  {
   "cell_type": "code",
   "execution_count": 17,
   "metadata": {},
   "outputs": [],
   "source": [
    "#hidden layer 2\n",
    "classifier.add(Dense(units=6,kernel_initializer='he_uniform',activation='relu'))"
   ]
  },
  {
   "cell_type": "code",
   "execution_count": 18,
   "metadata": {},
   "outputs": [],
   "source": [
    "#out put layer\n",
    "#here units is 1 because my target variable is 0 or 1 so we are taking 1 neuron \n",
    "#for activation function sigmoid use glorot_ uniform weight inistalization\n",
    "classifier.add(Dense(units=1,kernel_initializer='glorot_uniform',activation='sigmoid'))"
   ]
  },
  {
   "cell_type": "code",
   "execution_count": 19,
   "metadata": {},
   "outputs": [
    {
     "name": "stdout",
     "output_type": "stream",
     "text": [
      "Model: \"sequential\"\n",
      "_________________________________________________________________\n",
      "Layer (type)                 Output Shape              Param #   \n",
      "=================================================================\n",
      "dense (Dense)                (None, 6)                 72        \n",
      "_________________________________________________________________\n",
      "dense_1 (Dense)              (None, 6)                 42        \n",
      "_________________________________________________________________\n",
      "dense_2 (Dense)              (None, 1)                 7         \n",
      "=================================================================\n",
      "Total params: 121\n",
      "Trainable params: 121\n",
      "Non-trainable params: 0\n",
      "_________________________________________________________________\n"
     ]
    }
   ],
   "source": [
    "classifier.summary()"
   ]
  },
  {
   "cell_type": "code",
   "execution_count": 20,
   "metadata": {},
   "outputs": [],
   "source": [
    "#optimizer=adam it is used \n",
    "#losss=for binary values use binary_crossentropy for multiclass use category_crossentropy\n",
    "#"
   ]
  },
  {
   "cell_type": "code",
   "execution_count": 21,
   "metadata": {},
   "outputs": [],
   "source": [
    "#ANN compilation\n",
    "classifier.compile(optimizer='adam',loss='binary_crossentropy',metrics=['accuracy'])"
   ]
  },
  {
   "cell_type": "code",
   "execution_count": 22,
   "metadata": {},
   "outputs": [
    {
     "name": "stdout",
     "output_type": "stream",
     "text": [
      "Epoch 1/50\n",
      "536/536 [==============================] - 1s 1ms/step - loss: 0.6147 - accuracy: 0.7197 - val_loss: 0.5129 - val_accuracy: 0.8103\n",
      "Epoch 2/50\n",
      "536/536 [==============================] - 1s 1ms/step - loss: 0.4935 - accuracy: 0.7972 - val_loss: 0.4428 - val_accuracy: 0.8198\n",
      "Epoch 3/50\n",
      "536/536 [==============================] - 1s 1ms/step - loss: 0.4460 - accuracy: 0.8072 - val_loss: 0.4198 - val_accuracy: 0.8273\n",
      "Epoch 4/50\n",
      "536/536 [==============================] - 1s 1ms/step - loss: 0.4301 - accuracy: 0.8115 - val_loss: 0.4135 - val_accuracy: 0.8262\n",
      "Epoch 5/50\n",
      "536/536 [==============================] - 1s 1ms/step - loss: 0.4231 - accuracy: 0.8177 - val_loss: 0.4080 - val_accuracy: 0.8281\n",
      "Epoch 6/50\n",
      "536/536 [==============================] - 1s 1ms/step - loss: 0.4181 - accuracy: 0.8242 - val_loss: 0.4087 - val_accuracy: 0.8258\n",
      "Epoch 7/50\n",
      "536/536 [==============================] - 1s 1ms/step - loss: 0.4145 - accuracy: 0.8238 - val_loss: 0.4024 - val_accuracy: 0.8304\n",
      "Epoch 8/50\n",
      "536/536 [==============================] - 1s 1ms/step - loss: 0.4111 - accuracy: 0.8263 - val_loss: 0.3991 - val_accuracy: 0.8307\n",
      "Epoch 9/50\n",
      "536/536 [==============================] - 1s 1ms/step - loss: 0.4072 - accuracy: 0.8276 - val_loss: 0.3956 - val_accuracy: 0.8292\n",
      "Epoch 10/50\n",
      "536/536 [==============================] - 1s 1ms/step - loss: 0.4036 - accuracy: 0.8313 - val_loss: 0.3904 - val_accuracy: 0.8338\n",
      "Epoch 11/50\n",
      "536/536 [==============================] - 1s 2ms/step - loss: 0.3989 - accuracy: 0.8354 - val_loss: 0.3842 - val_accuracy: 0.8410\n",
      "Epoch 12/50\n",
      "536/536 [==============================] - 1s 1ms/step - loss: 0.3935 - accuracy: 0.8358 - val_loss: 0.3765 - val_accuracy: 0.8432\n",
      "Epoch 13/50\n",
      "536/536 [==============================] - 1s 1ms/step - loss: 0.3862 - accuracy: 0.8403 - val_loss: 0.3679 - val_accuracy: 0.8489\n",
      "Epoch 14/50\n",
      "536/536 [==============================] - 1s 2ms/step - loss: 0.3780 - accuracy: 0.8474 - val_loss: 0.3592 - val_accuracy: 0.8554\n",
      "Epoch 15/50\n",
      "536/536 [==============================] - 1s 2ms/step - loss: 0.3692 - accuracy: 0.8531 - val_loss: 0.3494 - val_accuracy: 0.8607\n",
      "Epoch 16/50\n",
      "536/536 [==============================] - 1s 1ms/step - loss: 0.3631 - accuracy: 0.8533 - val_loss: 0.3446 - val_accuracy: 0.8603\n",
      "Epoch 17/50\n",
      "536/536 [==============================] - 1s 1ms/step - loss: 0.3584 - accuracy: 0.8535 - val_loss: 0.3406 - val_accuracy: 0.8633\n",
      "Epoch 18/50\n",
      "536/536 [==============================] - 1s 1ms/step - loss: 0.3548 - accuracy: 0.8543 - val_loss: 0.3395 - val_accuracy: 0.8660\n",
      "Epoch 19/50\n",
      "536/536 [==============================] - 1s 1ms/step - loss: 0.3535 - accuracy: 0.8535 - val_loss: 0.3373 - val_accuracy: 0.8663\n",
      "Epoch 20/50\n",
      "536/536 [==============================] - 1s 979us/step - loss: 0.3523 - accuracy: 0.8533 - val_loss: 0.3372 - val_accuracy: 0.8671\n",
      "Epoch 21/50\n",
      "536/536 [==============================] - 1s 2ms/step - loss: 0.3511 - accuracy: 0.8543 - val_loss: 0.3349 - val_accuracy: 0.8671\n",
      "Epoch 22/50\n",
      "536/536 [==============================] - 1s 1ms/step - loss: 0.3504 - accuracy: 0.8543 - val_loss: 0.3346 - val_accuracy: 0.8671\n",
      "Epoch 23/50\n",
      "536/536 [==============================] - 1s 1ms/step - loss: 0.3494 - accuracy: 0.8559 - val_loss: 0.3371 - val_accuracy: 0.8682\n",
      "Epoch 24/50\n",
      "536/536 [==============================] - 1s 1ms/step - loss: 0.3486 - accuracy: 0.8558 - val_loss: 0.3365 - val_accuracy: 0.8667\n",
      "Epoch 25/50\n",
      "536/536 [==============================] - 1s 2ms/step - loss: 0.3481 - accuracy: 0.8569 - val_loss: 0.3337 - val_accuracy: 0.8682\n",
      "Epoch 26/50\n",
      "536/536 [==============================] - 1s 2ms/step - loss: 0.3474 - accuracy: 0.8556 - val_loss: 0.3343 - val_accuracy: 0.8686\n",
      "Epoch 27/50\n",
      "536/536 [==============================] - 1s 2ms/step - loss: 0.3470 - accuracy: 0.8559 - val_loss: 0.3345 - val_accuracy: 0.8671\n",
      "Epoch 28/50\n",
      "536/536 [==============================] - 1s 2ms/step - loss: 0.3464 - accuracy: 0.8580 - val_loss: 0.3353 - val_accuracy: 0.8671\n",
      "Epoch 29/50\n",
      "536/536 [==============================] - 1s 1ms/step - loss: 0.3462 - accuracy: 0.8563 - val_loss: 0.3331 - val_accuracy: 0.8675\n",
      "Epoch 30/50\n",
      "536/536 [==============================] - 1s 1ms/step - loss: 0.3453 - accuracy: 0.8561 - val_loss: 0.3328 - val_accuracy: 0.8697\n",
      "Epoch 31/50\n",
      "536/536 [==============================] - 1s 2ms/step - loss: 0.3455 - accuracy: 0.8587 - val_loss: 0.3343 - val_accuracy: 0.8682\n",
      "Epoch 32/50\n",
      "536/536 [==============================] - 1s 1ms/step - loss: 0.3448 - accuracy: 0.8574 - val_loss: 0.3367 - val_accuracy: 0.8682\n",
      "Epoch 33/50\n",
      "536/536 [==============================] - 1s 1ms/step - loss: 0.3449 - accuracy: 0.8576 - val_loss: 0.3348 - val_accuracy: 0.8694\n",
      "Epoch 34/50\n",
      "536/536 [==============================] - 1s 1ms/step - loss: 0.3442 - accuracy: 0.8567 - val_loss: 0.3376 - val_accuracy: 0.8671\n",
      "Epoch 35/50\n",
      "536/536 [==============================] - 1s 1ms/step - loss: 0.3436 - accuracy: 0.8580 - val_loss: 0.3344 - val_accuracy: 0.8690\n",
      "Epoch 36/50\n",
      "536/536 [==============================] - 1s 1ms/step - loss: 0.3434 - accuracy: 0.8569 - val_loss: 0.3340 - val_accuracy: 0.8701\n",
      "Epoch 37/50\n",
      "536/536 [==============================] - 1s 1ms/step - loss: 0.3433 - accuracy: 0.8576 - val_loss: 0.3348 - val_accuracy: 0.8675\n",
      "Epoch 38/50\n",
      "536/536 [==============================] - 1s 1ms/step - loss: 0.3424 - accuracy: 0.8559 - val_loss: 0.3331 - val_accuracy: 0.8671\n",
      "Epoch 39/50\n",
      "536/536 [==============================] - 1s 1ms/step - loss: 0.3423 - accuracy: 0.8559 - val_loss: 0.3332 - val_accuracy: 0.8644\n",
      "Epoch 40/50\n",
      "536/536 [==============================] - 1s 1ms/step - loss: 0.3422 - accuracy: 0.8569 - val_loss: 0.3328 - val_accuracy: 0.8660\n",
      "Epoch 41/50\n",
      "536/536 [==============================] - 1s 1ms/step - loss: 0.3425 - accuracy: 0.8580 - val_loss: 0.3335 - val_accuracy: 0.8686\n",
      "Epoch 42/50\n",
      "536/536 [==============================] - 1s 1ms/step - loss: 0.3424 - accuracy: 0.8580 - val_loss: 0.3324 - val_accuracy: 0.8663\n",
      "Epoch 43/50\n",
      "536/536 [==============================] - 1s 1ms/step - loss: 0.3423 - accuracy: 0.8558 - val_loss: 0.3332 - val_accuracy: 0.8690\n",
      "Epoch 44/50\n",
      "536/536 [==============================] - 1s 1ms/step - loss: 0.3417 - accuracy: 0.8572 - val_loss: 0.3330 - val_accuracy: 0.8682\n",
      "Epoch 45/50\n",
      "536/536 [==============================] - 1s 1ms/step - loss: 0.3420 - accuracy: 0.8563 - val_loss: 0.3356 - val_accuracy: 0.8679\n",
      "Epoch 46/50\n",
      "536/536 [==============================] - 1s 1ms/step - loss: 0.3413 - accuracy: 0.8582 - val_loss: 0.3334 - val_accuracy: 0.8690\n",
      "Epoch 47/50\n",
      "536/536 [==============================] - 1s 1ms/step - loss: 0.3412 - accuracy: 0.8578 - val_loss: 0.3342 - val_accuracy: 0.8679\n",
      "Epoch 48/50\n",
      "536/536 [==============================] - 1s 1ms/step - loss: 0.3415 - accuracy: 0.8578 - val_loss: 0.3346 - val_accuracy: 0.8701\n",
      "Epoch 49/50\n",
      "536/536 [==============================] - 1s 1ms/step - loss: 0.3415 - accuracy: 0.8576 - val_loss: 0.3343 - val_accuracy: 0.8686\n",
      "Epoch 50/50\n",
      "536/536 [==============================] - 1s 1ms/step - loss: 0.3409 - accuracy: 0.8582 - val_loss: 0.3324 - val_accuracy: 0.8656\n"
     ]
    },
    {
     "data": {
      "text/plain": [
       "<tensorflow.python.keras.callbacks.History at 0x2801b780430>"
      ]
     },
     "execution_count": 22,
     "metadata": {},
     "output_type": "execute_result"
    }
   ],
   "source": [
    "#ANN fitting\n",
    "classifier.fit(X_train,y_train,validation_split=0.33,batch_size=10,epochs=50)"
   ]
  },
  {
   "cell_type": "code",
   "execution_count": 23,
   "metadata": {},
   "outputs": [],
   "source": [
    "y_pred=classifier.predict(X_test)\n",
    "y_pred=(y_pred > 0.5)"
   ]
  },
  {
   "cell_type": "code",
   "execution_count": 24,
   "metadata": {},
   "outputs": [],
   "source": [
    "from sklearn.metrics import confusion_matrix\n",
    "cm=confusion_matrix(y_test,y_pred)"
   ]
  },
  {
   "cell_type": "code",
   "execution_count": 25,
   "metadata": {},
   "outputs": [
    {
     "data": {
      "text/plain": [
       "array([[1526,   38],\n",
       "       [ 247,  189]], dtype=int64)"
      ]
     },
     "execution_count": 25,
     "metadata": {},
     "output_type": "execute_result"
    }
   ],
   "source": [
    "cm"
   ]
  },
  {
   "cell_type": "code",
   "execution_count": 26,
   "metadata": {},
   "outputs": [],
   "source": [
    "from sklearn.metrics import accuracy_score\n",
    "score=accuracy_score(y_pred,y_test)"
   ]
  },
  {
   "cell_type": "code",
   "execution_count": 27,
   "metadata": {},
   "outputs": [
    {
     "data": {
      "text/plain": [
       "0.8575"
      ]
     },
     "execution_count": 27,
     "metadata": {},
     "output_type": "execute_result"
    }
   ],
   "source": [
    "score"
   ]
  },
  {
   "cell_type": "code",
   "execution_count": 28,
   "metadata": {},
   "outputs": [],
   "source": [
    "#====================================================="
   ]
  },
  {
   "cell_type": "code",
   "execution_count": 31,
   "metadata": {
    "scrolled": false
   },
   "outputs": [
    {
     "data": {
      "text/plain": [
       "'2.3.0'"
      ]
     },
     "execution_count": 31,
     "metadata": {},
     "output_type": "execute_result"
    }
   ],
   "source": [
    "tensorflow.__version__"
   ]
  },
  {
   "cell_type": "code",
   "execution_count": 30,
   "metadata": {},
   "outputs": [],
   "source": [
    "import tensorflow"
   ]
  },
  {
   "cell_type": "code",
   "execution_count": null,
   "metadata": {},
   "outputs": [],
   "source": []
  },
  {
   "cell_type": "code",
   "execution_count": null,
   "metadata": {},
   "outputs": [],
   "source": []
  }
 ],
 "metadata": {
  "kernelspec": {
   "display_name": "Python 3",
   "language": "python",
   "name": "python3"
  },
  "language_info": {
   "codemirror_mode": {
    "name": "ipython",
    "version": 3
   },
   "file_extension": ".py",
   "mimetype": "text/x-python",
   "name": "python",
   "nbconvert_exporter": "python",
   "pygments_lexer": "ipython3",
   "version": "3.8.3"
  }
 },
 "nbformat": 4,
 "nbformat_minor": 4
}
