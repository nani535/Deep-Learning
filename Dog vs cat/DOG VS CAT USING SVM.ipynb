{
 "cells": [
  {
   "cell_type": "markdown",
   "metadata": {},
   "source": [
    "# Dog vs cat using SVM"
   ]
  },
  {
   "cell_type": "code",
   "execution_count": 1,
   "metadata": {},
   "outputs": [],
   "source": [
    "from tensorflow.compat.v1 import ConfigProto\n",
    "from tensorflow.compat.v1 import InteractiveSession\n",
    "\n",
    "config = ConfigProto()\n",
    "config.gpu_options.per_process_gpu_memory_fraction = 0.6\n",
    "config.gpu_options.allow_growth = True\n",
    "session = InteractiveSession(config=config)\n"
   ]
  },
  {
   "cell_type": "code",
   "execution_count": 2,
   "metadata": {},
   "outputs": [],
   "source": [
    "import pandas as pd\n",
    "import numpy as np\n",
    "import seaborn as sns\n",
    "import matplotlib.pyplot as plt\n",
    "import warnings\n",
    "warnings.filterwarnings('ignore')"
   ]
  },
  {
   "cell_type": "code",
   "execution_count": 3,
   "metadata": {},
   "outputs": [],
   "source": [
    "import os,random\n",
    "from glob import glob"
   ]
  },
  {
   "cell_type": "code",
   "execution_count": 4,
   "metadata": {},
   "outputs": [],
   "source": [
    "train_path=r\"C:\\Users\\user\\Desktop\\Data sets\\dog_dataset\\training_set\\training_set\"\n",
    "test_path=r\"C:\\Users\\user\\Desktop\\Data sets\\dog_dataset\\test_set\\test_set\""
   ]
  },
  {
   "cell_type": "code",
   "execution_count": 5,
   "metadata": {},
   "outputs": [],
   "source": [
    "train_folders=glob(r\"C:\\Users\\user\\Desktop\\Data sets\\dog_dataset\\training_set\\training_set\\*\")\n",
    "test_folders=glob(r\"C:\\Users\\user\\Desktop\\Data sets\\dog_dataset\\test_set\\test_set\\*\")"
   ]
  },
  {
   "cell_type": "code",
   "execution_count": 6,
   "metadata": {},
   "outputs": [
    {
     "data": {
      "text/plain": [
       "(['C:\\\\Users\\\\user\\\\Desktop\\\\Data sets\\\\dog_dataset\\\\training_set\\\\training_set\\\\cats',\n",
       "  'C:\\\\Users\\\\user\\\\Desktop\\\\Data sets\\\\dog_dataset\\\\training_set\\\\training_set\\\\dogs'],\n",
       " ['C:\\\\Users\\\\user\\\\Desktop\\\\Data sets\\\\dog_dataset\\\\test_set\\\\test_set\\\\cats',\n",
       "  'C:\\\\Users\\\\user\\\\Desktop\\\\Data sets\\\\dog_dataset\\\\test_set\\\\test_set\\\\dogs'])"
      ]
     },
     "execution_count": 6,
     "metadata": {},
     "output_type": "execute_result"
    }
   ],
   "source": [
    "train_folders,test_folders"
   ]
  },
  {
   "cell_type": "code",
   "execution_count": 7,
   "metadata": {},
   "outputs": [],
   "source": [
    "import tensorflow as tf\n",
    "from tensorflow.keras.preprocessing.image import ImageDataGenerator,img_to_array,array_to_img,load_img"
   ]
  },
  {
   "cell_type": "code",
   "execution_count": 8,
   "metadata": {},
   "outputs": [
    {
     "data": {
      "text/plain": [
       "'2.4.1'"
      ]
     },
     "execution_count": 8,
     "metadata": {},
     "output_type": "execute_result"
    }
   ],
   "source": [
    "tf.__version__"
   ]
  },
  {
   "cell_type": "code",
   "execution_count": 9,
   "metadata": {},
   "outputs": [],
   "source": [
    "#data pre frocessing:\n",
    "train_datagen=ImageDataGenerator(rescale=1./255,zoom_range=0.3,horizontal_flip=True,width_shift_range=0.4)"
   ]
  },
  {
   "cell_type": "code",
   "execution_count": 10,
   "metadata": {},
   "outputs": [
    {
     "name": "stdout",
     "output_type": "stream",
     "text": [
      "Found 8005 images belonging to 2 classes.\n"
     ]
    }
   ],
   "source": [
    "training_set=train_datagen.flow_from_directory(r\"C:\\Users\\user\\Desktop\\Data sets\\dog_dataset\\training_set\\training_set\",\n",
    "                                              target_size=(224,224),\n",
    "                                              batch_size=32,\n",
    "                                              class_mode='binary')"
   ]
  },
  {
   "cell_type": "code",
   "execution_count": 11,
   "metadata": {},
   "outputs": [],
   "source": [
    "test_datagen=ImageDataGenerator(rescale=1./225)"
   ]
  },
  {
   "cell_type": "code",
   "execution_count": 12,
   "metadata": {},
   "outputs": [
    {
     "name": "stdout",
     "output_type": "stream",
     "text": [
      "Found 2023 images belonging to 2 classes.\n"
     ]
    }
   ],
   "source": [
    "testing_set=test_datagen.flow_from_directory(r\"C:\\Users\\user\\Desktop\\Data sets\\dog_dataset\\test_set\\test_set\",\n",
    "                                             target_size=(224,224),\n",
    "                                            batch_size=32,\n",
    "                                            class_mode='binary')"
   ]
  },
  {
   "cell_type": "code",
   "execution_count": 13,
   "metadata": {},
   "outputs": [],
   "source": [
    "from keras.models import Sequential\n",
    "from keras.layers import Conv2D,Flatten,MaxPool2D,Dense"
   ]
  },
  {
   "cell_type": "code",
   "execution_count": 14,
   "metadata": {},
   "outputs": [],
   "source": [
    "model=Sequential()"
   ]
  },
  {
   "cell_type": "code",
   "execution_count": 15,
   "metadata": {},
   "outputs": [],
   "source": [
    "model.add(Conv2D(64,kernel_size=(3,3),activation='relu',strides=2,input_shape=[224,224,3],kernel_initializer='he_normal'))\n",
    "model.add(MaxPool2D(pool_size=2,strides=2))"
   ]
  },
  {
   "cell_type": "code",
   "execution_count": 17,
   "metadata": {},
   "outputs": [],
   "source": [
    "model.add(Conv2D(34,kernel_size=(3,3),activation='relu',strides=2,kernel_initializer='he_normal'))\n",
    "model.add(MaxPool2D(pool_size=2,strides=3))"
   ]
  },
  {
   "cell_type": "code",
   "execution_count": 18,
   "metadata": {},
   "outputs": [],
   "source": [
    "model.add(Flatten())"
   ]
  },
  {
   "cell_type": "code",
   "execution_count": 19,
   "metadata": {},
   "outputs": [],
   "source": [
    "model.add(Dense(128,activation='sigmoid'))"
   ]
  },
  {
   "cell_type": "markdown",
   "metadata": {},
   "source": [
    "# For Binary Classification"
   ]
  },
  {
   "cell_type": "code",
   "execution_count": 21,
   "metadata": {},
   "outputs": [],
   "source": [
    "from keras.regularizers import l2 "
   ]
  },
  {
   "cell_type": "code",
   "execution_count": 23,
   "metadata": {},
   "outputs": [],
   "source": [
    "model.add(Dense(1,kernel_regularizer=tf.keras.regularizers.l2(0.01),activation='linear'))"
   ]
  },
  {
   "cell_type": "code",
   "execution_count": 24,
   "metadata": {},
   "outputs": [],
   "source": [
    "# Compiling the CNN\n",
    "model.compile(optimizer = 'adam', loss = 'hinge', metrics = ['accuracy'])\n"
   ]
  },
  {
   "cell_type": "code",
   "execution_count": 25,
   "metadata": {},
   "outputs": [
    {
     "name": "stdout",
     "output_type": "stream",
     "text": [
      "Epoch 1/10\n",
      "251/251 [==============================] - 359s 1s/step - loss: 1.0118 - accuracy: 0.5079 - val_loss: 0.8768 - val_accuracy: 0.6021\n",
      "Epoch 2/10\n",
      "251/251 [==============================] - 351s 1s/step - loss: 0.8849 - accuracy: 0.5686 - val_loss: 1.1479 - val_accuracy: 0.5769\n",
      "Epoch 3/10\n",
      "251/251 [==============================] - 247s 980ms/step - loss: 0.8412 - accuracy: 0.5976 - val_loss: 0.7580 - val_accuracy: 0.6881\n",
      "Epoch 4/10\n",
      "251/251 [==============================] - 203s 809ms/step - loss: 0.7990 - accuracy: 0.6227 - val_loss: 0.7772 - val_accuracy: 0.7000\n",
      "Epoch 5/10\n",
      "251/251 [==============================] - 192s 765ms/step - loss: 0.7447 - accuracy: 0.6547 - val_loss: 0.7291 - val_accuracy: 0.7158\n",
      "Epoch 6/10\n",
      "251/251 [==============================] - 180s 718ms/step - loss: 0.7339 - accuracy: 0.6520 - val_loss: 0.7164 - val_accuracy: 0.7192\n",
      "Epoch 7/10\n",
      "251/251 [==============================] - 179s 715ms/step - loss: 0.6923 - accuracy: 0.6748 - val_loss: 0.7407 - val_accuracy: 0.7118\n",
      "Epoch 8/10\n",
      "251/251 [==============================] - 337s 1s/step - loss: 0.6870 - accuracy: 0.6812 - val_loss: 0.6429 - val_accuracy: 0.7281\n",
      "Epoch 9/10\n",
      "251/251 [==============================] - 353s 1s/step - loss: 0.6884 - accuracy: 0.6708 - val_loss: 0.6716 - val_accuracy: 0.7296\n",
      "Epoch 10/10\n",
      "251/251 [==============================] - 351s 1s/step - loss: 0.6519 - accuracy: 0.6902 - val_loss: 0.6513 - val_accuracy: 0.7321\n"
     ]
    },
    {
     "data": {
      "text/plain": [
       "<tensorflow.python.keras.callbacks.History at 0x2139db70c10>"
      ]
     },
     "execution_count": 25,
     "metadata": {},
     "output_type": "execute_result"
    }
   ],
   "source": [
    "model.fit_generator(training_set,validation_data=testing_set,epochs=10)"
   ]
  },
  {
   "cell_type": "code",
   "execution_count": 27,
   "metadata": {},
   "outputs": [],
   "source": [
    "from tensorflow.keras.models import load_model\n",
    "\n",
    "model.save('model_rcat_dog.h5')"
   ]
  },
  {
   "cell_type": "code",
   "execution_count": 28,
   "metadata": {},
   "outputs": [],
   "source": [
    "model1=load_model('model_rcat_dog.h5')"
   ]
  },
  {
   "cell_type": "code",
   "execution_count": 29,
   "metadata": {},
   "outputs": [
    {
     "name": "stdout",
     "output_type": "stream",
     "text": [
      "Model: \"sequential\"\n",
      "_________________________________________________________________\n",
      "Layer (type)                 Output Shape              Param #   \n",
      "=================================================================\n",
      "conv2d (Conv2D)              (None, 111, 111, 64)      1792      \n",
      "_________________________________________________________________\n",
      "max_pooling2d (MaxPooling2D) (None, 55, 55, 64)        0         \n",
      "_________________________________________________________________\n",
      "conv2d_1 (Conv2D)            (None, 27, 27, 34)        19618     \n",
      "_________________________________________________________________\n",
      "conv2d_2 (Conv2D)            (None, 13, 13, 34)        10438     \n",
      "_________________________________________________________________\n",
      "max_pooling2d_1 (MaxPooling2 (None, 4, 4, 34)          0         \n",
      "_________________________________________________________________\n",
      "flatten (Flatten)            (None, 544)               0         \n",
      "_________________________________________________________________\n",
      "dense (Dense)                (None, 128)               69760     \n",
      "_________________________________________________________________\n",
      "dense_1 (Dense)              (None, 1)                 129       \n",
      "=================================================================\n",
      "Total params: 101,737\n",
      "Trainable params: 101,737\n",
      "Non-trainable params: 0\n",
      "_________________________________________________________________\n"
     ]
    }
   ],
   "source": [
    "model1.summary()"
   ]
  },
  {
   "cell_type": "code",
   "execution_count": 30,
   "metadata": {},
   "outputs": [],
   "source": [
    "\n",
    "\n",
    "import numpy as np\n",
    "from tensorflow.keras.preprocessing import image\n",
    "test_image = image.load_img(r'C:\\Users\\user\\Desktop\\dog.jpg', target_size = (224,224))\n",
    "test_image = image.img_to_array(test_image)\n",
    "test_image=test_image/255\n",
    "test_image = np.expand_dims(test_image, axis = 0)\n",
    "result = model.predict(test_image)"
   ]
  },
  {
   "cell_type": "code",
   "execution_count": 31,
   "metadata": {},
   "outputs": [],
   "source": [
    "# Part 4 - Making a single prediction\n",
    "\n",
    "import numpy as np\n",
    "from tensorflow.keras.preprocessing import image\n",
    "test_image = image.load_img(r'C:\\Users\\user\\Desktop\\cat.jpg', target_size = (224,224))\n",
    "test_image = image.img_to_array(test_image)\n",
    "test_image=test_image/255\n",
    "test_image = np.expand_dims(test_image, axis = 0)\n",
    "result = model.predict(test_image)\n"
   ]
  },
  {
   "cell_type": "code",
   "execution_count": 32,
   "metadata": {},
   "outputs": [
    {
     "name": "stdout",
     "output_type": "stream",
     "text": [
      "The image classified is cat\n"
     ]
    }
   ],
   "source": [
    "if result[0]<0:\n",
    "    print(\"The image classified is cat\")\n",
    "else:\n",
    "    print(\"The image classified is dog\")"
   ]
  },
  {
   "cell_type": "code",
   "execution_count": null,
   "metadata": {},
   "outputs": [],
   "source": []
  }
 ],
 "metadata": {
  "kernelspec": {
   "display_name": "Python 3",
   "language": "python",
   "name": "python3"
  },
  "language_info": {
   "codemirror_mode": {
    "name": "ipython",
    "version": 3
   },
   "file_extension": ".py",
   "mimetype": "text/x-python",
   "name": "python",
   "nbconvert_exporter": "python",
   "pygments_lexer": "ipython3",
   "version": "3.8.3"
  }
 },
 "nbformat": 4,
 "nbformat_minor": 4
}
