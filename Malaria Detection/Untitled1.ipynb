{
 "cells": [
  {
   "cell_type": "code",
   "execution_count": 1,
   "metadata": {},
   "outputs": [],
   "source": [
    "import pandas as pd\n",
    "import numpy as np\n",
    "import seaborn as sns\n",
    "import warnings\n",
    "warnings.filterwarnings('ignore')"
   ]
  },
  {
   "cell_type": "code",
   "execution_count": 2,
   "metadata": {},
   "outputs": [],
   "source": [
    "from keras.layers import Input, Lambda, Dense, Flatten\n",
    "from keras.models import Model\n",
    "from keras.applications.resnet50 import ResNet50\n",
    "from keras.applications.vgg16 import VGG16\n",
    "from keras.applications.vgg16 import preprocess_input\n",
    "from keras.preprocessing import image\n",
    "from keras.preprocessing.image import ImageDataGenerator\n",
    "from keras.models import Sequential\n",
    "import numpy as np\n",
    "from glob import glob\n",
    "import matplotlib.pyplot as plt"
   ]
  },
  {
   "cell_type": "code",
   "execution_count": 3,
   "metadata": {},
   "outputs": [],
   "source": [
    "train_path=r'C:\\Users\\user\\Desktop\\Data sets\\Dataset\\Train'\n",
    "test_path=r\"C:\\Users\\user\\Desktop\\Data sets\\Dataset\\Test\""
   ]
  },
  {
   "cell_type": "code",
   "execution_count": null,
   "metadata": {},
   "outputs": [],
   "source": []
  },
  {
   "cell_type": "code",
   "execution_count": 5,
   "metadata": {},
   "outputs": [],
   "source": [
    "IMAGE_SIZE=[224,224]"
   ]
  },
  {
   "cell_type": "code",
   "execution_count": 6,
   "metadata": {},
   "outputs": [],
   "source": [
    "vgg=VGG16(include_top=False,weights='imagenet',input_shape=IMAGE_SIZE+[3])"
   ]
  },
  {
   "cell_type": "code",
   "execution_count": 7,
   "metadata": {},
   "outputs": [],
   "source": [
    "#don't train existing weights\n",
    "for layer in vgg.layers:\n",
    "    layer.trainable=False"
   ]
  },
  {
   "cell_type": "code",
   "execution_count": 8,
   "metadata": {},
   "outputs": [],
   "source": [
    "folders_train=glob(r'C:\\Users\\user\\Desktop\\Data sets\\Dataset\\Train\\*')\n",
    "folders_test=glob(r\"C:\\Users\\user\\Desktop\\Data sets\\Dataset\\Test\\*\")"
   ]
  },
  {
   "cell_type": "code",
   "execution_count": 51,
   "metadata": {},
   "outputs": [
    {
     "data": {
      "text/plain": [
       "['C:\\\\Users\\\\user\\\\Desktop\\\\Data sets\\\\Dataset\\\\Test\\\\Parasite',\n",
       " 'C:\\\\Users\\\\user\\\\Desktop\\\\Data sets\\\\Dataset\\\\Test\\\\Uninfected']"
      ]
     },
     "execution_count": 51,
     "metadata": {},
     "output_type": "execute_result"
    }
   ],
   "source": [
    "folders_test"
   ]
  },
  {
   "cell_type": "code",
   "execution_count": 52,
   "metadata": {},
   "outputs": [
    {
     "data": {
      "text/plain": [
       "['C:\\\\Users\\\\user\\\\Desktop\\\\Data sets\\\\Dataset\\\\Train\\\\Parasite',\n",
       " 'C:\\\\Users\\\\user\\\\Desktop\\\\Data sets\\\\Dataset\\\\Train\\\\Uninfected']"
      ]
     },
     "execution_count": 52,
     "metadata": {},
     "output_type": "execute_result"
    }
   ],
   "source": [
    "folders_train"
   ]
  },
  {
   "cell_type": "code",
   "execution_count": 9,
   "metadata": {},
   "outputs": [],
   "source": [
    "x=Flatten()(vgg.output)"
   ]
  },
  {
   "cell_type": "code",
   "execution_count": 10,
   "metadata": {},
   "outputs": [],
   "source": [
    "prediction=Dense(len(folders_train),activation='sigmoid')(x)"
   ]
  },
  {
   "cell_type": "code",
   "execution_count": 11,
   "metadata": {},
   "outputs": [],
   "source": [
    "model=Model(inputs=vgg.input,outputs=prediction)"
   ]
  },
  {
   "cell_type": "code",
   "execution_count": 12,
   "metadata": {},
   "outputs": [
    {
     "name": "stdout",
     "output_type": "stream",
     "text": [
      "Model: \"model\"\n",
      "_________________________________________________________________\n",
      "Layer (type)                 Output Shape              Param #   \n",
      "=================================================================\n",
      "input_1 (InputLayer)         [(None, 224, 224, 3)]     0         \n",
      "_________________________________________________________________\n",
      "block1_conv1 (Conv2D)        (None, 224, 224, 64)      1792      \n",
      "_________________________________________________________________\n",
      "block1_conv2 (Conv2D)        (None, 224, 224, 64)      36928     \n",
      "_________________________________________________________________\n",
      "block1_pool (MaxPooling2D)   (None, 112, 112, 64)      0         \n",
      "_________________________________________________________________\n",
      "block2_conv1 (Conv2D)        (None, 112, 112, 128)     73856     \n",
      "_________________________________________________________________\n",
      "block2_conv2 (Conv2D)        (None, 112, 112, 128)     147584    \n",
      "_________________________________________________________________\n",
      "block2_pool (MaxPooling2D)   (None, 56, 56, 128)       0         \n",
      "_________________________________________________________________\n",
      "block3_conv1 (Conv2D)        (None, 56, 56, 256)       295168    \n",
      "_________________________________________________________________\n",
      "block3_conv2 (Conv2D)        (None, 56, 56, 256)       590080    \n",
      "_________________________________________________________________\n",
      "block3_conv3 (Conv2D)        (None, 56, 56, 256)       590080    \n",
      "_________________________________________________________________\n",
      "block3_pool (MaxPooling2D)   (None, 28, 28, 256)       0         \n",
      "_________________________________________________________________\n",
      "block4_conv1 (Conv2D)        (None, 28, 28, 512)       1180160   \n",
      "_________________________________________________________________\n",
      "block4_conv2 (Conv2D)        (None, 28, 28, 512)       2359808   \n",
      "_________________________________________________________________\n",
      "block4_conv3 (Conv2D)        (None, 28, 28, 512)       2359808   \n",
      "_________________________________________________________________\n",
      "block4_pool (MaxPooling2D)   (None, 14, 14, 512)       0         \n",
      "_________________________________________________________________\n",
      "block5_conv1 (Conv2D)        (None, 14, 14, 512)       2359808   \n",
      "_________________________________________________________________\n",
      "block5_conv2 (Conv2D)        (None, 14, 14, 512)       2359808   \n",
      "_________________________________________________________________\n",
      "block5_conv3 (Conv2D)        (None, 14, 14, 512)       2359808   \n",
      "_________________________________________________________________\n",
      "block5_pool (MaxPooling2D)   (None, 7, 7, 512)         0         \n",
      "_________________________________________________________________\n",
      "flatten (Flatten)            (None, 25088)             0         \n",
      "_________________________________________________________________\n",
      "dense (Dense)                (None, 2)                 50178     \n",
      "=================================================================\n",
      "Total params: 14,764,866\n",
      "Trainable params: 50,178\n",
      "Non-trainable params: 14,714,688\n",
      "_________________________________________________________________\n"
     ]
    }
   ],
   "source": [
    "model.summary()"
   ]
  },
  {
   "cell_type": "code",
   "execution_count": 15,
   "metadata": {},
   "outputs": [],
   "source": [
    "import keras"
   ]
  },
  {
   "cell_type": "code",
   "execution_count": 19,
   "metadata": {},
   "outputs": [],
   "source": [
    "model.compile(keras.optimizers.Adam('le-5'),metrics=['accuracy'],loss='categorical_crossentropy')"
   ]
  },
  {
   "cell_type": "code",
   "execution_count": 20,
   "metadata": {},
   "outputs": [],
   "source": [
    "model.compile(keras.optimizers.Adam(lr=1e-5),metrics=['accuracy'],loss='categorical_crossentropy')"
   ]
  },
  {
   "cell_type": "code",
   "execution_count": 21,
   "metadata": {},
   "outputs": [],
   "source": [
    "from keras_preprocessing.image import ImageDataGenerator\n",
    "train_gen=ImageDataGenerator(rescale=1./225,zoom_range=0.2,horizontal_flip=True)\n",
    "test_gen=ImageDataGenerator(rescale=1./225)"
   ]
  },
  {
   "cell_type": "code",
   "execution_count": 22,
   "metadata": {},
   "outputs": [
    {
     "name": "stdout",
     "output_type": "stream",
     "text": [
      "Found 416 images belonging to 2 classes.\n"
     ]
    }
   ],
   "source": [
    "trainig_set=train_gen.flow_from_directory(r\"C:\\Users\\user\\Desktop\\Data sets\\Dataset\\Train\",\n",
    "                                         target_size=(224,224),\n",
    "                                          batch_size = 32,\n",
    "                                          class_mode='categorical')"
   ]
  },
  {
   "cell_type": "code",
   "execution_count": 23,
   "metadata": {},
   "outputs": [
    {
     "name": "stdout",
     "output_type": "stream",
     "text": [
      "Found 134 images belonging to 2 classes.\n"
     ]
    }
   ],
   "source": [
    "testing_set=test_gen.flow_from_directory(r\"C:\\Users\\user\\Desktop\\Data sets\\Dataset\\Test\",\n",
    "                                         target_size=(224,224),\n",
    "                                          batch_size = 32,\n",
    "                                          class_mode='categorical')"
   ]
  },
  {
   "cell_type": "code",
   "execution_count": 24,
   "metadata": {},
   "outputs": [
    {
     "name": "stdout",
     "output_type": "stream",
     "text": [
      "Epoch 1/12\n",
      "13/13 [==============================] - 258s 20s/step - loss: 0.7239 - accuracy: 0.5132 - val_loss: 0.6892 - val_accuracy: 0.5149\n",
      "Epoch 2/12\n",
      "13/13 [==============================] - 257s 20s/step - loss: 0.6911 - accuracy: 0.5206 - val_loss: 0.6826 - val_accuracy: 0.5299\n",
      "Epoch 3/12\n",
      "13/13 [==============================] - 238s 19s/step - loss: 0.6748 - accuracy: 0.5493 - val_loss: 0.6893 - val_accuracy: 0.5448\n",
      "Epoch 4/12\n",
      "13/13 [==============================] - 151s 11s/step - loss: 0.6856 - accuracy: 0.5507 - val_loss: 0.6837 - val_accuracy: 0.5672\n",
      "Epoch 5/12\n",
      "13/13 [==============================] - 154s 12s/step - loss: 0.6660 - accuracy: 0.6011 - val_loss: 0.6809 - val_accuracy: 0.5821\n",
      "Epoch 6/12\n",
      "13/13 [==============================] - 148s 12s/step - loss: 0.6632 - accuracy: 0.5837 - val_loss: 0.6727 - val_accuracy: 0.5970\n",
      "Epoch 7/12\n",
      "13/13 [==============================] - 144s 11s/step - loss: 0.6391 - accuracy: 0.6689 - val_loss: 0.6669 - val_accuracy: 0.6269\n",
      "Epoch 8/12\n",
      "13/13 [==============================] - 144s 11s/step - loss: 0.6282 - accuracy: 0.6744 - val_loss: 0.6568 - val_accuracy: 0.6716\n",
      "Epoch 9/12\n",
      "13/13 [==============================] - 217s 17s/step - loss: 0.6168 - accuracy: 0.6914 - val_loss: 0.6585 - val_accuracy: 0.6343\n",
      "Epoch 10/12\n",
      "13/13 [==============================] - 253s 20s/step - loss: 0.6175 - accuracy: 0.6728 - val_loss: 0.6593 - val_accuracy: 0.6269\n",
      "Epoch 11/12\n",
      "13/13 [==============================] - 252s 20s/step - loss: 0.6163 - accuracy: 0.6744 - val_loss: 0.6448 - val_accuracy: 0.6866\n",
      "Epoch 12/12\n",
      "13/13 [==============================] - 256s 20s/step - loss: 0.6130 - accuracy: 0.6708 - val_loss: 0.6621 - val_accuracy: 0.5746\n"
     ]
    },
    {
     "data": {
      "text/plain": [
       "<tensorflow.python.keras.callbacks.History at 0x1d6f2d35d90>"
      ]
     },
     "execution_count": 24,
     "metadata": {},
     "output_type": "execute_result"
    }
   ],
   "source": [
    "model.fit_generator(trainig_set,validation_data=testing_set,epochs=12)"
   ]
  },
  {
   "cell_type": "code",
   "execution_count": 25,
   "metadata": {},
   "outputs": [],
   "source": [
    "# save it as a h5 file\n",
    "#we are having only two ways to save the model\n",
    "#a)h5\n",
    "#b)tf\n",
    "from tensorflow.keras.models import load_model\n",
    "\n",
    "model.save('malaria_vgg16.h5')"
   ]
  },
  {
   "cell_type": "code",
   "execution_count": 26,
   "metadata": {},
   "outputs": [],
   "source": [
    "y_pred = model.predict(testing_set)"
   ]
  },
  {
   "cell_type": "code",
   "execution_count": 27,
   "metadata": {},
   "outputs": [
    {
     "data": {
      "text/plain": [
       "array([[0.6035846 , 0.407324  ],\n",
       "       [0.42161626, 0.39218968],\n",
       "       [0.39316252, 0.49712425],\n",
       "       [0.41964927, 0.48024637],\n",
       "       [0.4174919 , 0.55865026],\n",
       "       [0.5799502 , 0.41847244],\n",
       "       [0.4722209 , 0.5151761 ],\n",
       "       [0.5055036 , 0.5202228 ],\n",
       "       [0.41131562, 0.5418497 ],\n",
       "       [0.3921907 , 0.48276266],\n",
       "       [0.41347125, 0.4710643 ],\n",
       "       [0.52823734, 0.41931158],\n",
       "       [0.5110577 , 0.4337749 ],\n",
       "       [0.51810646, 0.46586484],\n",
       "       [0.47561747, 0.52087325],\n",
       "       [0.56978893, 0.44743374],\n",
       "       [0.45333648, 0.52395266],\n",
       "       [0.40365112, 0.46851122],\n",
       "       [0.37762374, 0.5562446 ],\n",
       "       [0.45209774, 0.32142356],\n",
       "       [0.42104235, 0.5257799 ],\n",
       "       [0.4712036 , 0.38137788],\n",
       "       [0.5453269 , 0.50963664],\n",
       "       [0.47455138, 0.5381732 ],\n",
       "       [0.46734536, 0.48816466],\n",
       "       [0.44242737, 0.51062137],\n",
       "       [0.5833421 , 0.4339199 ],\n",
       "       [0.53368765, 0.54281175],\n",
       "       [0.44509104, 0.4505998 ],\n",
       "       [0.5739959 , 0.5878976 ],\n",
       "       [0.39830047, 0.49805427],\n",
       "       [0.44755927, 0.45697471],\n",
       "       [0.44160905, 0.5135    ],\n",
       "       [0.50535965, 0.4696015 ],\n",
       "       [0.6318832 , 0.45512798],\n",
       "       [0.59771943, 0.452008  ],\n",
       "       [0.41476226, 0.45569465],\n",
       "       [0.471453  , 0.46697414],\n",
       "       [0.5102318 , 0.4852914 ],\n",
       "       [0.391829  , 0.5026641 ],\n",
       "       [0.50939476, 0.47512022],\n",
       "       [0.43280303, 0.4907537 ],\n",
       "       [0.46392855, 0.42152017],\n",
       "       [0.436753  , 0.5057588 ],\n",
       "       [0.3506959 , 0.5536567 ],\n",
       "       [0.42565936, 0.5246451 ],\n",
       "       [0.47012636, 0.49042782],\n",
       "       [0.49489546, 0.42657596],\n",
       "       [0.47597647, 0.50704056],\n",
       "       [0.4245791 , 0.53027827],\n",
       "       [0.4212083 , 0.46245435],\n",
       "       [0.39263064, 0.47377172],\n",
       "       [0.4416409 , 0.576264  ],\n",
       "       [0.53869635, 0.48999208],\n",
       "       [0.4100014 , 0.37283123],\n",
       "       [0.5519781 , 0.4885289 ],\n",
       "       [0.4340334 , 0.52789664],\n",
       "       [0.42460862, 0.42254302],\n",
       "       [0.36702657, 0.46545643],\n",
       "       [0.42678672, 0.4813262 ],\n",
       "       [0.410665  , 0.45076904],\n",
       "       [0.5705726 , 0.473285  ],\n",
       "       [0.4922137 , 0.49335465],\n",
       "       [0.38192773, 0.4341543 ],\n",
       "       [0.6194445 , 0.44394043],\n",
       "       [0.46990013, 0.49955928],\n",
       "       [0.6128957 , 0.54756886],\n",
       "       [0.41642898, 0.49352467],\n",
       "       [0.627792  , 0.56302625],\n",
       "       [0.54341745, 0.39978936],\n",
       "       [0.607793  , 0.47750044],\n",
       "       [0.47330886, 0.41396856],\n",
       "       [0.52785033, 0.5048967 ],\n",
       "       [0.58268577, 0.51227725],\n",
       "       [0.43422145, 0.53609693],\n",
       "       [0.4326161 , 0.4400906 ],\n",
       "       [0.4576312 , 0.49703127],\n",
       "       [0.41696015, 0.5209569 ],\n",
       "       [0.45400393, 0.45747975],\n",
       "       [0.4242186 , 0.50944424],\n",
       "       [0.432315  , 0.54630864],\n",
       "       [0.4699685 , 0.42389813],\n",
       "       [0.45858932, 0.5362381 ],\n",
       "       [0.5080546 , 0.5123662 ],\n",
       "       [0.53181624, 0.4258178 ],\n",
       "       [0.41991156, 0.53109807],\n",
       "       [0.42304233, 0.4580737 ],\n",
       "       [0.54510385, 0.49750718],\n",
       "       [0.4532009 , 0.5144519 ],\n",
       "       [0.48188943, 0.41459447],\n",
       "       [0.5810892 , 0.5322729 ],\n",
       "       [0.32410353, 0.52374715],\n",
       "       [0.52676785, 0.44688654],\n",
       "       [0.50978154, 0.5344501 ],\n",
       "       [0.5659154 , 0.5078833 ],\n",
       "       [0.42371768, 0.51186335],\n",
       "       [0.42380115, 0.4648357 ],\n",
       "       [0.51354843, 0.46012336],\n",
       "       [0.42247275, 0.47922134],\n",
       "       [0.41540223, 0.46544364],\n",
       "       [0.5214814 , 0.42237037],\n",
       "       [0.47915876, 0.50448024],\n",
       "       [0.62978256, 0.40860954],\n",
       "       [0.40164047, 0.51907456],\n",
       "       [0.54530025, 0.44431138],\n",
       "       [0.50749964, 0.5301532 ],\n",
       "       [0.5963018 , 0.4760069 ],\n",
       "       [0.36203235, 0.47109428],\n",
       "       [0.37327063, 0.491874  ],\n",
       "       [0.45497423, 0.5123175 ],\n",
       "       [0.4089437 , 0.52815974],\n",
       "       [0.49081385, 0.5330802 ],\n",
       "       [0.3695429 , 0.5242783 ],\n",
       "       [0.42506516, 0.51340836],\n",
       "       [0.50987935, 0.516327  ],\n",
       "       [0.40947783, 0.47828484],\n",
       "       [0.44697925, 0.45463654],\n",
       "       [0.61094505, 0.34004384],\n",
       "       [0.53148204, 0.4563007 ],\n",
       "       [0.4535511 , 0.54224664],\n",
       "       [0.49304003, 0.3742643 ],\n",
       "       [0.49066365, 0.46644104],\n",
       "       [0.5171979 , 0.4602315 ],\n",
       "       [0.43698823, 0.46774125],\n",
       "       [0.4161393 , 0.41987032],\n",
       "       [0.43872866, 0.50842476],\n",
       "       [0.51342   , 0.5387244 ],\n",
       "       [0.42155954, 0.4828454 ],\n",
       "       [0.5751015 , 0.51166   ],\n",
       "       [0.5522019 , 0.48390242],\n",
       "       [0.38422307, 0.5701816 ],\n",
       "       [0.4169966 , 0.5548726 ],\n",
       "       [0.38523886, 0.549065  ],\n",
       "       [0.56186795, 0.39130867]], dtype=float32)"
      ]
     },
     "execution_count": 27,
     "metadata": {},
     "output_type": "execute_result"
    }
   ],
   "source": [
    "y_pred"
   ]
  },
  {
   "cell_type": "code",
   "execution_count": 28,
   "metadata": {},
   "outputs": [],
   "source": [
    "y_pred = np.argmax(y_pred, axis=1)"
   ]
  },
  {
   "cell_type": "code",
   "execution_count": 29,
   "metadata": {},
   "outputs": [
    {
     "data": {
      "text/plain": [
       "array([0, 0, 1, 1, 1, 0, 1, 1, 1, 1, 1, 0, 0, 0, 1, 0, 1, 1, 1, 0, 1, 0,\n",
       "       0, 1, 1, 1, 0, 1, 1, 1, 1, 1, 1, 0, 0, 0, 1, 0, 0, 1, 0, 1, 0, 1,\n",
       "       1, 1, 1, 0, 1, 1, 1, 1, 1, 0, 0, 0, 1, 0, 1, 1, 1, 0, 1, 1, 0, 1,\n",
       "       0, 1, 0, 0, 0, 0, 0, 0, 1, 1, 1, 1, 1, 1, 1, 0, 1, 1, 0, 1, 1, 0,\n",
       "       1, 0, 0, 1, 0, 1, 0, 1, 1, 0, 1, 1, 0, 1, 0, 1, 0, 1, 0, 1, 1, 1,\n",
       "       1, 1, 1, 1, 1, 1, 1, 0, 0, 1, 0, 0, 0, 1, 1, 1, 1, 1, 0, 0, 1, 1,\n",
       "       1, 0], dtype=int64)"
      ]
     },
     "execution_count": 29,
     "metadata": {},
     "output_type": "execute_result"
    }
   ],
   "source": [
    "y_pred"
   ]
  },
  {
   "cell_type": "code",
   "execution_count": 30,
   "metadata": {},
   "outputs": [],
   "source": [
    "from tensorflow.keras.models import load_model\n",
    "from tensorflow.keras.preprocessing import image"
   ]
  },
  {
   "cell_type": "code",
   "execution_count": 31,
   "metadata": {},
   "outputs": [],
   "source": [
    "model=load_model('malaria_vgg16.h5')"
   ]
  },
  {
   "cell_type": "code",
   "execution_count": 42,
   "metadata": {
    "scrolled": true
   },
   "outputs": [],
   "source": [
    "img1=image.load_img(r\"C:\\Users\\user\\Desktop\\Data sets\\Dataset\\Train\\Parasite\\nani.png\",target_size=(224,224))"
   ]
  },
  {
   "cell_type": "code",
   "execution_count": 43,
   "metadata": {},
   "outputs": [
    {
     "data": {
      "text/plain": [
       "array([[[0., 0., 0.],\n",
       "        [0., 0., 0.],\n",
       "        [0., 0., 0.],\n",
       "        ...,\n",
       "        [0., 0., 0.],\n",
       "        [0., 0., 0.],\n",
       "        [0., 0., 0.]],\n",
       "\n",
       "       [[0., 0., 0.],\n",
       "        [0., 0., 0.],\n",
       "        [0., 0., 0.],\n",
       "        ...,\n",
       "        [0., 0., 0.],\n",
       "        [0., 0., 0.],\n",
       "        [0., 0., 0.]],\n",
       "\n",
       "       [[0., 0., 0.],\n",
       "        [0., 0., 0.],\n",
       "        [0., 0., 0.],\n",
       "        ...,\n",
       "        [0., 0., 0.],\n",
       "        [0., 0., 0.],\n",
       "        [0., 0., 0.]],\n",
       "\n",
       "       ...,\n",
       "\n",
       "       [[0., 0., 0.],\n",
       "        [0., 0., 0.],\n",
       "        [0., 0., 0.],\n",
       "        ...,\n",
       "        [0., 0., 0.],\n",
       "        [0., 0., 0.],\n",
       "        [0., 0., 0.]],\n",
       "\n",
       "       [[0., 0., 0.],\n",
       "        [0., 0., 0.],\n",
       "        [0., 0., 0.],\n",
       "        ...,\n",
       "        [0., 0., 0.],\n",
       "        [0., 0., 0.],\n",
       "        [0., 0., 0.]],\n",
       "\n",
       "       [[0., 0., 0.],\n",
       "        [0., 0., 0.],\n",
       "        [0., 0., 0.],\n",
       "        ...,\n",
       "        [0., 0., 0.],\n",
       "        [0., 0., 0.],\n",
       "        [0., 0., 0.]]], dtype=float32)"
      ]
     },
     "execution_count": 43,
     "metadata": {},
     "output_type": "execute_result"
    }
   ],
   "source": [
    "x=image.img_to_array(img1)\n",
    "x"
   ]
  },
  {
   "cell_type": "code",
   "execution_count": 44,
   "metadata": {},
   "outputs": [
    {
     "data": {
      "text/plain": [
       "(224, 224, 3)"
      ]
     },
     "execution_count": 44,
     "metadata": {},
     "output_type": "execute_result"
    }
   ],
   "source": [
    "x.shape"
   ]
  },
  {
   "cell_type": "code",
   "execution_count": 45,
   "metadata": {},
   "outputs": [],
   "source": [
    "\n",
    "x=x/255"
   ]
  },
  {
   "cell_type": "code",
   "execution_count": 46,
   "metadata": {},
   "outputs": [
    {
     "data": {
      "text/plain": [
       "(1, 224, 224, 3)"
      ]
     },
     "execution_count": 46,
     "metadata": {},
     "output_type": "execute_result"
    }
   ],
   "source": [
    "import numpy as np\n",
    "x=np.expand_dims(x,axis=0)\n",
    "img_data=preprocess_input(x)\n",
    "img_data.shape"
   ]
  },
  {
   "cell_type": "code",
   "execution_count": 47,
   "metadata": {},
   "outputs": [
    {
     "data": {
      "text/plain": [
       "array([[0.29342002, 0.5049118 ]], dtype=float32)"
      ]
     },
     "execution_count": 47,
     "metadata": {},
     "output_type": "execute_result"
    }
   ],
   "source": [
    "model.predict(img_data)"
   ]
  },
  {
   "cell_type": "code",
   "execution_count": 48,
   "metadata": {},
   "outputs": [],
   "source": [
    "a=np.argmax(model.predict(img_data), axis=1)"
   ]
  },
  {
   "cell_type": "code",
   "execution_count": 50,
   "metadata": {},
   "outputs": [
    {
     "data": {
      "text/plain": [
       "array([False])"
      ]
     },
     "execution_count": 50,
     "metadata": {},
     "output_type": "execute_result"
    }
   ],
   "source": [
    "a==0\n"
   ]
  },
  {
   "cell_type": "markdown",
   "metadata": {},
   "source": []
  },
  {
   "cell_type": "code",
   "execution_count": null,
   "metadata": {},
   "outputs": [],
   "source": []
  }
 ],
 "metadata": {
  "kernelspec": {
   "display_name": "Python 3",
   "language": "python",
   "name": "python3"
  },
  "language_info": {
   "codemirror_mode": {
    "name": "ipython",
    "version": 3
   },
   "file_extension": ".py",
   "mimetype": "text/x-python",
   "name": "python",
   "nbconvert_exporter": "python",
   "pygments_lexer": "ipython3",
   "version": "3.8.3"
  }
 },
 "nbformat": 4,
 "nbformat_minor": 4
}
